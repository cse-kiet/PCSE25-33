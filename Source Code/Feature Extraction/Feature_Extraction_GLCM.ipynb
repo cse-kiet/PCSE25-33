{
 "cells": [
  {
   "cell_type": "code",
   "execution_count": 36,
   "metadata": {},
   "outputs": [],
   "source": [
    "import nibabel as nib\n",
    "from skimage.feature import graycomatrix, graycoprops\n",
    "import numpy as np"
   ]
  },
  {
   "cell_type": "code",
   "execution_count": 470,
   "metadata": {},
   "outputs": [],
   "source": [
    "# Load a NIfTI file\n",
    "img = nib.load('F:\\ImageCHD(from scratch)\\Training\\ct_1178_image.nii.gz')\n",
    "data = img.get_fdata()"
   ]
  },
  {
   "cell_type": "code",
   "execution_count": 471,
   "metadata": {},
   "outputs": [],
   "source": [
    "# Iterate through each slice of the 3D image\n",
    "for i in range(data.shape[2]):\n",
    "    # Convert floating-point image to unsigned integer type (assuming the image data ranges from 0 to 1)\n",
    "    data_uint8 = (data[:, :, i] * 255).astype(np.uint8)"
   ]
  },
  {
   "cell_type": "code",
   "execution_count": 472,
   "metadata": {},
   "outputs": [],
   "source": [
    " # Calculate GLCM for each slice\n",
    "glcm = graycomatrix(data_uint8, distances=[1], angles=[0], symmetric=True, normed=True)\n"
   ]
  },
  {
   "cell_type": "code",
   "execution_count": 473,
   "metadata": {},
   "outputs": [],
   "source": [
    "# Calculate GLCM properties\n",
    "contrast = graycoprops(glcm, 'contrast')[0, 0]\n",
    "dissimilarity = graycoprops(glcm, 'dissimilarity')[0, 0]\n",
    "homogeneity = graycoprops(glcm, 'homogeneity')[0, 0]\n",
    "energy = graycoprops(glcm, 'energy')[0, 0]\n",
    "correlation = graycoprops(glcm, 'correlation')[0, 0]"
   ]
  },
  {
   "cell_type": "code",
   "execution_count": 474,
   "metadata": {},
   "outputs": [
    {
     "name": "stdout",
     "output_type": "stream",
     "text": [
      "Slice 315:\n",
      "Contrast: 3068.539391205969\n",
      "Dissimilarity: 25.04010977250489\n",
      "Homogeneity: 0.18477901910205619\n",
      "Energy: 0.09724534926772108\n",
      "Correlation: 0.7862131717965566\n"
     ]
    }
   ],
   "source": [
    "# Print GLCM properties for each slice\n",
    "print(f\"Slice {i+1}:\")\n",
    "print(f\"Contrast: {contrast}\")\n",
    "print(f\"Dissimilarity: {dissimilarity}\")\n",
    "print(f\"Homogeneity: {homogeneity}\")\n",
    "print(f\"Energy: {energy}\")\n",
    "print(f\"Correlation: {correlation}\")"
   ]
  }
 ],
 "metadata": {
  "kernelspec": {
   "display_name": "base",
   "language": "python",
   "name": "python3"
  },
  "language_info": {
   "codemirror_mode": {
    "name": "ipython",
    "version": 3
   },
   "file_extension": ".py",
   "mimetype": "text/x-python",
   "name": "python",
   "nbconvert_exporter": "python",
   "pygments_lexer": "ipython3",
   "version": "3.11.5"
  }
 },
 "nbformat": 4,
 "nbformat_minor": 2
}
