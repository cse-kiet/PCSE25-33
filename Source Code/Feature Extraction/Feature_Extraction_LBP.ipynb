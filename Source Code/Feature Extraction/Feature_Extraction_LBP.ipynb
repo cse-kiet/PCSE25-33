{
 "cells": [
  {
   "cell_type": "code",
   "execution_count": 26,
   "metadata": {},
   "outputs": [],
   "source": [
    "import numpy as np\n",
    "import nibabel as nib\n",
    "from skimage.feature import local_binary_pattern\n",
    "from scipy.stats import skew, kurtosis\n",
    "from scipy.stats import entropy"
   ]
  },
  {
   "cell_type": "code",
   "execution_count": 27,
   "metadata": {},
   "outputs": [],
   "source": [
    "# Function to load .nii file and extract the middle slice\n",
    "def load_middle_slice(file_path):\n",
    "    # Load the .nii file\n",
    "    image = nib.load(file_path)\n",
    "    image_data = image.get_fdata()\n",
    "    \n",
    "    # Extract the middle slice\n",
    "    middle_slice = image_data[:, :, image_data.shape[2] // 2]\n",
    "    \n",
    "    # Normalize the slice to range [0, 1]\n",
    "    normalized_slice = (middle_slice - np.min(middle_slice)) / (np.max(middle_slice) - np.min(middle_slice))\n",
    "    \n",
    "    # Convert normalized image to integer type (0-255)\n",
    "    integer_slice = (normalized_slice * 255).astype(np.uint8)\n",
    "    \n",
    "    return integer_slice\n"
   ]
  },
  {
   "cell_type": "code",
   "execution_count": 28,
   "metadata": {},
   "outputs": [],
   "source": [
    "# Function to calculate LBP and extract statistical features\n",
    "def calculate_lbp_features(image, radius=3, n_points=24):\n",
    "    # Compute LBP\n",
    "    lbp = local_binary_pattern(image, n_points, radius, method=\"uniform\")\n",
    "    # Compute histogram\n",
    "    hist, _ = np.histogram(lbp.ravel(), bins=np.arange(0, n_points + 3), range=(0, n_points + 2))\n",
    "    hist = hist.astype(\"float\")\n",
    "    hist /= hist.sum()  # Normalize histogram\n",
    "    \n",
    "    # Calculate statistical features\n",
    "    features = {\n",
    "        \"Mean\": np.mean(hist),\n",
    "        \"Variance\": np.var(hist),\n",
    "        \"Skewness\": skew(hist),\n",
    "        \"Kurtosis\": kurtosis(hist),\n",
    "        \"Entropy\": entropy(hist)\n",
    "    }\n",
    "    return features"
   ]
  },
  {
   "cell_type": "code",
   "execution_count": 185,
   "metadata": {},
   "outputs": [],
   "source": [
    "# Path to the NIfTI file\n",
    "file_path = r'F:\\ImageCHD(from scratch)\\Training\\ct_1158_image.nii.gz'\n"
   ]
  },
  {
   "cell_type": "code",
   "execution_count": 186,
   "metadata": {},
   "outputs": [
    {
     "name": "stdout",
     "output_type": "stream",
     "text": [
      "Processing file: F:\\ImageCHD(from scratch)\\Training\\ct_1158_image.nii.gz\n",
      "Extracted LBP Features:\n",
      "Mean: 0.038461538461538464\n",
      "Variance: 0.0058411126981314405\n",
      "Skewness: 3.55918270582107\n",
      "Kurtosis: 11.926592079882637\n",
      "Entropy: 2.3285076580761164\n"
     ]
    }
   ],
   "source": [
    "# Validate the file path\n",
    "if not file_path.endswith('.nii.gz'):\n",
    "    print(\"Please provide a valid .nii file.\")\n",
    "else:\n",
    "    try:\n",
    "        # Load and process the file\n",
    "        print(f\"Processing file: {file_path}\")\n",
    "        middle_slice = load_middle_slice(file_path)\n",
    "        \n",
    "        # Extract LBP features\n",
    "        features = calculate_lbp_features(middle_slice)\n",
    "        \n",
    "        # Print the extracted features\n",
    "        print(\"Extracted LBP Features:\")\n",
    "        for feature_name, value in features.items():\n",
    "            print(f\"{feature_name}: {value}\")\n",
    "    except Exception as e:\n",
    "        print(f\"An error occurred: {e}\")"
   ]
  }
 ],
 "metadata": {
  "kernelspec": {
   "display_name": "base",
   "language": "python",
   "name": "python3"
  },
  "language_info": {
   "codemirror_mode": {
    "name": "ipython",
    "version": 3
   },
   "file_extension": ".py",
   "mimetype": "text/x-python",
   "name": "python",
   "nbconvert_exporter": "python",
   "pygments_lexer": "ipython3",
   "version": "3.11.5"
  }
 },
 "nbformat": 4,
 "nbformat_minor": 2
}
