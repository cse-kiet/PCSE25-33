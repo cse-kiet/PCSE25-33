{
 "cells": [
  {
   "cell_type": "code",
   "execution_count": 1,
   "metadata": {},
   "outputs": [],
   "source": [
    "import nibabel as nib\n",
    "from skimage.feature import hog\n",
    "import numpy as np"
   ]
  },
  {
   "cell_type": "code",
   "execution_count": 31,
   "metadata": {},
   "outputs": [],
   "source": [
    "# Function to calculate HOG properties for a given 2D slice from a NIfTI file\n",
    "def calculate_hog_properties_from_nii(file_path):\n",
    "    # Load the NIfTI file using nibabel\n",
    "    nii_image = nib.load(file_path)\n",
    "    image_data = nii_image.get_fdata()\n",
    "\n",
    "    # Choose a slice for feature extraction (e.g., the middle slice)\n",
    "    slice_index = image_data.shape[2] // 2  # Middle slice\n",
    "    slice_image = image_data[:, :, slice_index]\n",
    "\n",
    "    # Specify HOG parameters\n",
    "    orientations = 9\n",
    "    pixels_per_cell = (8, 8)  # Adjust the cell size according to your data\n",
    "    cells_per_block = (2, 2)   # Adjust the block size according to your data\n",
    "\n",
    "    # Calculate HOG features\n",
    "    hog_features = hog(slice_image, orientations=orientations, \n",
    "                        pixels_per_cell=pixels_per_cell, \n",
    "                        cells_per_block=cells_per_block, \n",
    "                        visualize=False)\n",
    "\n",
    "    # Compute properties from HOG features\n",
    "    contrast = np.mean(hog_features)  # Average magnitude of the gradient\n",
    "    dissimilarity = np.std(hog_features)  # Spread of the gradient values\n",
    "    homogeneity = np.median(hog_features)  # Middle value of the gradient distribution\n",
    "    energy = np.sum(hog_features ** 2) / len(hog_features)  # Normalized sum of squared gradients\n",
    "    correlation = np.nan  # Correlation is undefined for 1D arrays\n",
    "\n",
    "    return {\n",
    "        'contrast': contrast, \n",
    "        'dissimilarity': dissimilarity, \n",
    "        'homogeneity': homogeneity, \n",
    "        'energy': energy, \n",
    "        'correlation': correlation\n",
    "    }\n"
   ]
  },
  {
   "cell_type": "code",
   "execution_count": 182,
   "metadata": {},
   "outputs": [],
   "source": [
    "# Example usage with a NIfTI file path (replace with your actual file path):\n",
    "file_path = \"F:\\ImageCHD(from scratch)\\Training\\ct_1178_image.nii.gz\"  # Replace with the actual file path\n",
    "properties = calculate_hog_properties_from_nii(file_path)\n",
    "\n"
   ]
  },
  {
   "cell_type": "code",
   "execution_count": 183,
   "metadata": {},
   "outputs": [
    {
     "name": "stdout",
     "output_type": "stream",
     "text": [
      "Contrast: 0.1175559048\n",
      "Dissimilarity: 0.1113448716\n",
      "Homogeneity: 0.0852994674\n",
      "Energy: 0.0262170712\n",
      "Correlation: nan\n"
     ]
    }
   ],
   "source": [
    "# Printing the results in the desired format\n",
    "print(f\"Contrast: {properties['contrast']:.10f}\")\n",
    "print(f\"Dissimilarity: {properties['dissimilarity']:.10f}\")\n",
    "print(f\"Homogeneity: {properties['homogeneity']:.10f}\")\n",
    "print(f\"Energy: {properties['energy']:.10f}\")\n",
    "print(f\"Correlation: {properties['correlation']:.10f}\")"
   ]
  }
 ],
 "metadata": {
  "kernelspec": {
   "display_name": "base",
   "language": "python",
   "name": "python3"
  },
  "language_info": {
   "codemirror_mode": {
    "name": "ipython",
    "version": 3
   },
   "file_extension": ".py",
   "mimetype": "text/x-python",
   "name": "python",
   "nbconvert_exporter": "python",
   "pygments_lexer": "ipython3",
   "version": "3.11.5"
  }
 },
 "nbformat": 4,
 "nbformat_minor": 2
}
