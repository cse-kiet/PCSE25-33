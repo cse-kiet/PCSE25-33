{
 "cells": [
  {
   "cell_type": "code",
   "execution_count": 3,
   "metadata": {},
   "outputs": [],
   "source": [
    "import pandas as pd\n",
    "\n",
    "# Load the training and testing datasets\n",
    "train_data = pd.read_excel('F:/ImageCHD(from scratch)/Training/training_lbp_features.xlsx')\n",
    "test_data = pd.read_excel('F:/ImageCHD(from scratch)/Test/Test_LBP.xlsx')\n",
    "\n",
    "# Separate features (X) and target (y)\n",
    "X_train = train_data[['Variance', 'Skewness', 'Kurtosis', 'Entropy']]  # Features\n",
    "y_train = train_data['ASD']  # Target\n",
    "\n",
    "X_test = test_data[['Variance', 'Skewness', 'Kurtosis', 'Entropy']]    # Features\n",
    "y_test = test_data['ASD']  # Target\n"
   ]
  },
  {
   "cell_type": "code",
   "execution_count": 4,
   "metadata": {},
   "outputs": [],
   "source": [
    "from sklearn.ensemble import RandomForestClassifier\n",
    "from sklearn.metrics import accuracy_score, classification_report, confusion_matrix\n",
    "import pandas as pd"
   ]
  },
  {
   "cell_type": "code",
   "execution_count": null,
   "metadata": {},
   "outputs": [
    {
     "name": "stdout",
     "output_type": "stream",
     "text": [
      "=== Random Forest Results ===\n",
      "Accuracy: 0.69\n",
      "Confusion Matrix:\n",
      "[[17  7]\n",
      " [ 1  8]]\n",
      "Classification Report:\n",
      "              precision    recall  f1-score   support\n",
      "\n",
      "           0       0.81      0.71      0.76        24\n",
      "           1       0.75      0.88      0.79         9\n",
      "\n",
      "    accuracy                           0.69        33\n",
      "   macro avg       0.66      0.74      0.68        33\n",
      "weighted avg       0.73      0.73      0.72        33\n"
     ]
    }
   ],
   "source": [
    "# Separate Features (X) and Target (y)\n",
    "X_train = train_data[['Variance', 'Skewness', 'Kurtosis', 'Entropy']]\n",
    "y_train = train_data['ASD']\n",
    "X_test = test_data[['Variance', 'Skewness', 'Kurtosis', 'Entropy']]\n",
    "y_test = test_data['ASD']\n",
    "\n",
    "# Train Random Forest Model\n",
    "rf_model = RandomForestClassifier(n_estimators=100, random_state=42)\n",
    "rf_model.fit(X_train, y_train)\n",
    "\n",
    "# Predict and Evaluate\n",
    "y_pred = rf_model.predict(X_test)\n",
    "print(\"\\n=== Random Forest Results ===\")\n",
    "print(f\"Accuracy: {accuracy_score(y_test, y_pred):.4f}\")\n",
    "print(\"Confusion Matrix:\")\n",
    "print(confusion_matrix(y_test, y_pred))\n",
    "print(\"Classification Report:\")\n",
    "print(classification_report(y_test, y_pred))"
   ]
  },
  {
   "cell_type": "code",
   "execution_count": null,
   "metadata": {},
   "outputs": [
    {
     "name": "stdout",
     "output_type": "stream",
     "text": [
      "=== SVM Results ===\n",
      "Accuracy: 0.70\n",
      "Confusion Matrix:\n",
      "[[18  6]\n",
      " [ 3  6]]\n",
      "Classification Report:\n",
      "              precision    recall  f1-score   support\n",
      "\n",
      "           0       0.86      0.75      0.80        24\n",
      "           1       0.72      0.83      0.81         9\n",
      "\n",
      "    accuracy                           0.70        33\n",
      "   macro avg       0.68      0.71      0.69        33\n",
      "weighted avg       0.76      0.73      0.74        33\n"
     ]
    }
   ],
   "source": [
    "from sklearn.svm import SVC\n",
    "from sklearn.preprocessing import StandardScaler\n",
    "from sklearn.metrics import accuracy_score, classification_report, confusion_matrix\n",
    "import pandas as pd\n",
    "\n",
    "# Load Train and Test Data\n",
    "train_data = pd.read_excel('F:/ImageCHD(from scratch)/Training/training_lbp_features.xlsx')\n",
    "test_data = pd.read_excel('F:/ImageCHD(from scratch)/Test/Test_LBP.xlsx')\n",
    "\n",
    "# Separate Features (X) and Target (y)\n",
    "X_train = train_data[['Variance', 'Skewness', 'Kurtosis', 'Entropy']]\n",
    "y_train = train_data['ASD']\n",
    "X_test = test_data[['Variance', 'Skewness', 'Kurtosis', 'Entropy']]\n",
    "y_test = test_data['ASD']\n",
    "\n",
    "# Scale Features\n",
    "scaler = StandardScaler()\n",
    "X_train_scaled = scaler.fit_transform(X_train)\n",
    "X_test_scaled = scaler.transform(X_test)\n",
    "\n",
    "# Train SVM Model\n",
    "svm_model = SVC(kernel='linear', random_state=42)\n",
    "svm_model.fit(X_train_scaled, y_train)\n",
    "\n",
    "# Predict and Evaluate\n",
    "y_pred = svm_model.predict(X_test_scaled)\n",
    "print(\"\\n=== SVM Results ===\")\n",
    "print(f\"Accuracy: {accuracy_score(y_test, y_pred):.4f}\")\n",
    "print(\"Confusion Matrix:\")\n",
    "print(confusion_matrix(y_test, y_pred))\n",
    "print(\"Classification Report:\")\n",
    "print(classification_report(y_test, y_pred))\n"
   ]
  },
  {
   "cell_type": "code",
   "execution_count": null,
   "metadata": {},
   "outputs": [
    {
     "name": "stdout",
     "output_type": "stream",
     "text": [
      "=== Decision Tree Results ===\n",
      "Accuracy: 0.68\n",
      "Confusion Matrix:\n",
      "[[15  9]\n",
      " [ 2  7]]\n",
      "Classification Report:\n",
      "              precision    recall  f1-score   support\n",
      "\n",
      "           0       0.84      0.67      0.74        24\n",
      "           1       0.78      0.75      0.78         9\n",
      "\n",
      "    accuracy                           0.68        33\n",
      "   macro avg       0.63      0.67      0.63        33\n",
      "weighted avg       0.73      0.67      0.69        33\n"
     ]
    }
   ],
   "source": [
    "from sklearn.tree import DecisionTreeClassifier\n",
    "from sklearn.metrics import accuracy_score, classification_report, confusion_matrix\n",
    "import pandas as pd\n",
    "\n",
    "# Load Train and Test Data\n",
    "train_data = pd.read_excel('F:/ImageCHD(from scratch)/Training/training_lbp_features.xlsx')\n",
    "test_data = pd.read_excel('F:/ImageCHD(from scratch)/Test/Test_LBP.xlsx')\n",
    "\n",
    "# Separate Features (X) and Target (y)\n",
    "X_train = train_data[['Variance', 'Skewness', 'Kurtosis', 'Entropy']]\n",
    "y_train = train_data['ASD']\n",
    "X_test = test_data[['Variance', 'Skewness', 'Kurtosis', 'Entropy']]\n",
    "y_test = test_data['ASD']\n",
    "\n",
    "# Train Decision Tree Model\n",
    "dt_model = DecisionTreeClassifier(random_state=42)\n",
    "dt_model.fit(X_train, y_train)\n",
    "\n",
    "# Predict and Evaluate\n",
    "y_pred = dt_model.predict(X_test)\n",
    "print(\"\\n=== Decision Tree Results ===\")\n",
    "print(f\"Accuracy: {accuracy_score(y_test, y_pred):.4f}\")\n",
    "print(\"Confusion Matrix:\")\n",
    "print(confusion_matrix(y_test, y_pred))\n",
    "print(\"Classification Report:\")\n",
    "print(classification_report(y_test, y_pred))\n"
   ]
  },
  {
   "cell_type": "code",
   "execution_count": null,
   "metadata": {},
   "outputs": [
    {
     "name": "stdout",
     "output_type": "stream",
     "text": [
      "--- XGBoost Results for LBP ---\n",
      "Accuracy: 0.72\n",
      "Confusion Matrix:\n",
      "[[18  6]\n",
      " [ 1  8]]\n",
      "Classification Report:\n",
      "              precision    recall  f1-score   support\n",
      "\n",
      "           0       0.75      0.75      0.75        24\n",
      "           1       0.82      0.88      0.82        9\n",
      "\n",
      "    accuracy                           0.72        33\n",
      "   macro avg       0.68      0.88      0.75        33\n",
      "weighted avg       0.72      0.82      0.77        33\n"
     ]
    }
   ],
   "source": [
    "import pandas as pd\n",
    "from xgboost import XGBClassifier\n",
    "from sklearn.metrics import accuracy_score, classification_report, confusion_matrix\n",
    "\n",
    "# Load LBP training and testing datasets\n",
    "train_data = pd.read_excel('F:/ImageCHD(from scratch)/Training/training_lbp_features.xlsx')\n",
    "test_data = pd.read_excel('F:/ImageCHD(from scratch)/Test/Test_LBP.xlsx')\n",
    "\n",
    "# Specify the columns to use for features and the target variable\n",
    "feature_columns = [\"Variance\", \"Skewness\", \"Kurtosis\", \"Entropy\"]\n",
    "X_train = train_data[feature_columns]\n",
    "y_train = train_data[\"ASD\"]\n",
    "X_test = test_data[feature_columns]\n",
    "y_test = test_data[\"ASD\"]\n",
    "\n",
    "# Initialize and train the XGBoost model\n",
    "model = XGBClassifier(\n",
    "    objective='binary:logistic',\n",
    "    eval_metric='logloss',\n",
    "    use_label_encoder=False,\n",
    "    n_estimators=100,\n",
    "    learning_rate=0.1,\n",
    "    max_depth=6,\n",
    "    random_state=42\n",
    ")\n",
    "model.fit(X_train, y_train)\n",
    "\n",
    "# Predict and evaluate\n",
    "y_pred = model.predict(X_test)\n",
    "accuracy = accuracy_score(y_test, y_pred)\n",
    "\n",
    "print(\"--- XGBoost Results for LBP ---\")\n",
    "print(f\"Accuracy: {accuracy * 100:.2f}%\")\n",
    "print(\"\\nClassification Report:\")\n",
    "print(classification_report(y_test, y_pred))\n",
    "print(\"\\nConfusion Matrix:\")\n",
    "print(confusion_matrix(y_test, y_pred))\n"
   ]
  }
 ],
 "metadata": {
  "kernelspec": {
   "display_name": "Python 3",
   "language": "python",
   "name": "python3"
  },
  "language_info": {
   "codemirror_mode": {
    "name": "ipython",
    "version": 3
   },
   "file_extension": ".py",
   "mimetype": "text/x-python",
   "name": "python",
   "nbconvert_exporter": "python",
   "pygments_lexer": "ipython3",
   "version": "3.12.8"
  }
 },
 "nbformat": 4,
 "nbformat_minor": 2
}
